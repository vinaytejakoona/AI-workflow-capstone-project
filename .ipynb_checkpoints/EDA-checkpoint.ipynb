{
 "cells": [
  {
   "cell_type": "code",
   "execution_count": 15,
   "metadata": {},
   "outputs": [],
   "source": [
    "import cslib"
   ]
  },
  {
   "cell_type": "code",
   "execution_count": 16,
   "metadata": {},
   "outputs": [],
   "source": [
    "df = cslib.fetch_data('../cs-train/')"
   ]
  },
  {
   "cell_type": "code",
   "execution_count": 17,
   "metadata": {},
   "outputs": [
    {
     "data": {
      "text/html": [
       "<div>\n",
       "<style scoped>\n",
       "    .dataframe tbody tr th:only-of-type {\n",
       "        vertical-align: middle;\n",
       "    }\n",
       "\n",
       "    .dataframe tbody tr th {\n",
       "        vertical-align: top;\n",
       "    }\n",
       "\n",
       "    .dataframe thead th {\n",
       "        text-align: right;\n",
       "    }\n",
       "</style>\n",
       "<table border=\"1\" class=\"dataframe\">\n",
       "  <thead>\n",
       "    <tr style=\"text-align: right;\">\n",
       "      <th></th>\n",
       "      <th>country</th>\n",
       "      <th>customer_id</th>\n",
       "      <th>day</th>\n",
       "      <th>invoice</th>\n",
       "      <th>month</th>\n",
       "      <th>price</th>\n",
       "      <th>stream_id</th>\n",
       "      <th>times_viewed</th>\n",
       "      <th>year</th>\n",
       "      <th>invoice_date</th>\n",
       "    </tr>\n",
       "  </thead>\n",
       "  <tbody>\n",
       "    <tr>\n",
       "      <th>0</th>\n",
       "      <td>United Kingdom</td>\n",
       "      <td>13599.0</td>\n",
       "      <td>28</td>\n",
       "      <td>489547</td>\n",
       "      <td>11</td>\n",
       "      <td>0.85</td>\n",
       "      <td>20719</td>\n",
       "      <td>10</td>\n",
       "      <td>2017</td>\n",
       "      <td>2017-11-28</td>\n",
       "    </tr>\n",
       "    <tr>\n",
       "      <th>1</th>\n",
       "      <td>United Kingdom</td>\n",
       "      <td>15998.0</td>\n",
       "      <td>28</td>\n",
       "      <td>489522</td>\n",
       "      <td>11</td>\n",
       "      <td>1.25</td>\n",
       "      <td>21826</td>\n",
       "      <td>3</td>\n",
       "      <td>2017</td>\n",
       "      <td>2017-11-28</td>\n",
       "    </tr>\n",
       "    <tr>\n",
       "      <th>2</th>\n",
       "      <td>United Kingdom</td>\n",
       "      <td>15998.0</td>\n",
       "      <td>28</td>\n",
       "      <td>489522</td>\n",
       "      <td>11</td>\n",
       "      <td>1.25</td>\n",
       "      <td>21827</td>\n",
       "      <td>3</td>\n",
       "      <td>2017</td>\n",
       "      <td>2017-11-28</td>\n",
       "    </tr>\n",
       "    <tr>\n",
       "      <th>3</th>\n",
       "      <td>United Kingdom</td>\n",
       "      <td>15998.0</td>\n",
       "      <td>28</td>\n",
       "      <td>489522</td>\n",
       "      <td>11</td>\n",
       "      <td>1.25</td>\n",
       "      <td>21828</td>\n",
       "      <td>3</td>\n",
       "      <td>2017</td>\n",
       "      <td>2017-11-28</td>\n",
       "    </tr>\n",
       "    <tr>\n",
       "      <th>4</th>\n",
       "      <td>United Kingdom</td>\n",
       "      <td>15998.0</td>\n",
       "      <td>28</td>\n",
       "      <td>489522</td>\n",
       "      <td>11</td>\n",
       "      <td>1.25</td>\n",
       "      <td>16225</td>\n",
       "      <td>4</td>\n",
       "      <td>2017</td>\n",
       "      <td>2017-11-28</td>\n",
       "    </tr>\n",
       "    <tr>\n",
       "      <th>...</th>\n",
       "      <td>...</td>\n",
       "      <td>...</td>\n",
       "      <td>...</td>\n",
       "      <td>...</td>\n",
       "      <td>...</td>\n",
       "      <td>...</td>\n",
       "      <td>...</td>\n",
       "      <td>...</td>\n",
       "      <td>...</td>\n",
       "      <td>...</td>\n",
       "    </tr>\n",
       "    <tr>\n",
       "      <th>815006</th>\n",
       "      <td>United Kingdom</td>\n",
       "      <td>17656.0</td>\n",
       "      <td>31</td>\n",
       "      <td>562145</td>\n",
       "      <td>7</td>\n",
       "      <td>8.95</td>\n",
       "      <td>82486</td>\n",
       "      <td>2</td>\n",
       "      <td>2019</td>\n",
       "      <td>2019-07-31</td>\n",
       "    </tr>\n",
       "    <tr>\n",
       "      <th>815007</th>\n",
       "      <td>United Kingdom</td>\n",
       "      <td>17656.0</td>\n",
       "      <td>31</td>\n",
       "      <td>562145</td>\n",
       "      <td>7</td>\n",
       "      <td>7.95</td>\n",
       "      <td>22690</td>\n",
       "      <td>2</td>\n",
       "      <td>2019</td>\n",
       "      <td>2019-07-31</td>\n",
       "    </tr>\n",
       "    <tr>\n",
       "      <th>815008</th>\n",
       "      <td>United Kingdom</td>\n",
       "      <td>17656.0</td>\n",
       "      <td>31</td>\n",
       "      <td>562145</td>\n",
       "      <td>7</td>\n",
       "      <td>6.75</td>\n",
       "      <td>21115</td>\n",
       "      <td>4</td>\n",
       "      <td>2019</td>\n",
       "      <td>2019-07-31</td>\n",
       "    </tr>\n",
       "    <tr>\n",
       "      <th>815009</th>\n",
       "      <td>United Kingdom</td>\n",
       "      <td>14401.0</td>\n",
       "      <td>31</td>\n",
       "      <td>562156</td>\n",
       "      <td>7</td>\n",
       "      <td>3.75</td>\n",
       "      <td>37495</td>\n",
       "      <td>4</td>\n",
       "      <td>2019</td>\n",
       "      <td>2019-07-31</td>\n",
       "    </tr>\n",
       "    <tr>\n",
       "      <th>815010</th>\n",
       "      <td>United Kingdom</td>\n",
       "      <td>14401.0</td>\n",
       "      <td>31</td>\n",
       "      <td>562156</td>\n",
       "      <td>7</td>\n",
       "      <td>0.29</td>\n",
       "      <td>85230E</td>\n",
       "      <td>24</td>\n",
       "      <td>2019</td>\n",
       "      <td>2019-07-31</td>\n",
       "    </tr>\n",
       "  </tbody>\n",
       "</table>\n",
       "<p>815011 rows × 10 columns</p>\n",
       "</div>"
      ],
      "text/plain": [
       "               country  customer_id  day invoice  month  price stream_id  \\\n",
       "0       United Kingdom      13599.0   28  489547     11   0.85     20719   \n",
       "1       United Kingdom      15998.0   28  489522     11   1.25     21826   \n",
       "2       United Kingdom      15998.0   28  489522     11   1.25     21827   \n",
       "3       United Kingdom      15998.0   28  489522     11   1.25     21828   \n",
       "4       United Kingdom      15998.0   28  489522     11   1.25     16225   \n",
       "...                ...          ...  ...     ...    ...    ...       ...   \n",
       "815006  United Kingdom      17656.0   31  562145      7   8.95     82486   \n",
       "815007  United Kingdom      17656.0   31  562145      7   7.95     22690   \n",
       "815008  United Kingdom      17656.0   31  562145      7   6.75     21115   \n",
       "815009  United Kingdom      14401.0   31  562156      7   3.75     37495   \n",
       "815010  United Kingdom      14401.0   31  562156      7   0.29    85230E   \n",
       "\n",
       "        times_viewed  year invoice_date  \n",
       "0                 10  2017   2017-11-28  \n",
       "1                  3  2017   2017-11-28  \n",
       "2                  3  2017   2017-11-28  \n",
       "3                  3  2017   2017-11-28  \n",
       "4                  4  2017   2017-11-28  \n",
       "...              ...   ...          ...  \n",
       "815006             2  2019   2019-07-31  \n",
       "815007             2  2019   2019-07-31  \n",
       "815008             4  2019   2019-07-31  \n",
       "815009             4  2019   2019-07-31  \n",
       "815010            24  2019   2019-07-31  \n",
       "\n",
       "[815011 rows x 10 columns]"
      ]
     },
     "execution_count": 17,
     "metadata": {},
     "output_type": "execute_result"
    }
   ],
   "source": [
    "df"
   ]
  },
  {
   "cell_type": "code",
   "execution_count": 29,
   "metadata": {},
   "outputs": [
    {
     "data": {
      "text/html": [
       "<div>\n",
       "<style scoped>\n",
       "    .dataframe tbody tr th:only-of-type {\n",
       "        vertical-align: middle;\n",
       "    }\n",
       "\n",
       "    .dataframe tbody tr th {\n",
       "        vertical-align: top;\n",
       "    }\n",
       "\n",
       "    .dataframe thead th {\n",
       "        text-align: right;\n",
       "    }\n",
       "</style>\n",
       "<table border=\"1\" class=\"dataframe\">\n",
       "  <thead>\n",
       "    <tr style=\"text-align: right;\">\n",
       "      <th></th>\n",
       "      <th>customer_id</th>\n",
       "      <th>day</th>\n",
       "      <th>month</th>\n",
       "      <th>price</th>\n",
       "      <th>times_viewed</th>\n",
       "      <th>year</th>\n",
       "      <th>revenue</th>\n",
       "    </tr>\n",
       "  </thead>\n",
       "  <tbody>\n",
       "    <tr>\n",
       "      <th>count</th>\n",
       "      <td>625249.000000</td>\n",
       "      <td>815011.000000</td>\n",
       "      <td>815011.000000</td>\n",
       "      <td>815011.000000</td>\n",
       "      <td>815011.000000</td>\n",
       "      <td>815011.000000</td>\n",
       "      <td>815011.000000</td>\n",
       "    </tr>\n",
       "    <tr>\n",
       "      <th>mean</th>\n",
       "      <td>15333.415068</td>\n",
       "      <td>15.064819</td>\n",
       "      <td>6.592718</td>\n",
       "      <td>4.802631</td>\n",
       "      <td>5.231106</td>\n",
       "      <td>2018.247654</td>\n",
       "      <td>14.291172</td>\n",
       "    </tr>\n",
       "    <tr>\n",
       "      <th>std</th>\n",
       "      <td>1698.360788</td>\n",
       "      <td>8.788845</td>\n",
       "      <td>3.598781</td>\n",
       "      <td>135.058707</td>\n",
       "      <td>5.109982</td>\n",
       "      <td>0.545261</td>\n",
       "      <td>197.463439</td>\n",
       "    </tr>\n",
       "    <tr>\n",
       "      <th>min</th>\n",
       "      <td>12346.000000</td>\n",
       "      <td>1.000000</td>\n",
       "      <td>1.000000</td>\n",
       "      <td>-53594.360000</td>\n",
       "      <td>0.000000</td>\n",
       "      <td>2017.000000</td>\n",
       "      <td>-53594.360000</td>\n",
       "    </tr>\n",
       "    <tr>\n",
       "      <th>25%</th>\n",
       "      <td>13956.000000</td>\n",
       "      <td>7.000000</td>\n",
       "      <td>3.000000</td>\n",
       "      <td>1.250000</td>\n",
       "      <td>1.000000</td>\n",
       "      <td>2018.000000</td>\n",
       "      <td>3.360000</td>\n",
       "    </tr>\n",
       "    <tr>\n",
       "      <th>50%</th>\n",
       "      <td>15279.000000</td>\n",
       "      <td>15.000000</td>\n",
       "      <td>6.000000</td>\n",
       "      <td>2.100000</td>\n",
       "      <td>3.000000</td>\n",
       "      <td>2018.000000</td>\n",
       "      <td>8.290000</td>\n",
       "    </tr>\n",
       "    <tr>\n",
       "      <th>75%</th>\n",
       "      <td>16813.000000</td>\n",
       "      <td>23.000000</td>\n",
       "      <td>10.000000</td>\n",
       "      <td>4.210000</td>\n",
       "      <td>8.000000</td>\n",
       "      <td>2019.000000</td>\n",
       "      <td>16.130000</td>\n",
       "    </tr>\n",
       "    <tr>\n",
       "      <th>max</th>\n",
       "      <td>18287.000000</td>\n",
       "      <td>31.000000</td>\n",
       "      <td>12.000000</td>\n",
       "      <td>38970.000000</td>\n",
       "      <td>24.000000</td>\n",
       "      <td>2019.000000</td>\n",
       "      <td>50222.180000</td>\n",
       "    </tr>\n",
       "  </tbody>\n",
       "</table>\n",
       "</div>"
      ],
      "text/plain": [
       "         customer_id            day          month          price  \\\n",
       "count  625249.000000  815011.000000  815011.000000  815011.000000   \n",
       "mean    15333.415068      15.064819       6.592718       4.802631   \n",
       "std      1698.360788       8.788845       3.598781     135.058707   \n",
       "min     12346.000000       1.000000       1.000000  -53594.360000   \n",
       "25%     13956.000000       7.000000       3.000000       1.250000   \n",
       "50%     15279.000000      15.000000       6.000000       2.100000   \n",
       "75%     16813.000000      23.000000      10.000000       4.210000   \n",
       "max     18287.000000      31.000000      12.000000   38970.000000   \n",
       "\n",
       "        times_viewed           year        revenue  \n",
       "count  815011.000000  815011.000000  815011.000000  \n",
       "mean        5.231106    2018.247654      14.291172  \n",
       "std         5.109982       0.545261     197.463439  \n",
       "min         0.000000    2017.000000  -53594.360000  \n",
       "25%         1.000000    2018.000000       3.360000  \n",
       "50%         3.000000    2018.000000       8.290000  \n",
       "75%         8.000000    2019.000000      16.130000  \n",
       "max        24.000000    2019.000000   50222.180000  "
      ]
     },
     "execution_count": 29,
     "metadata": {},
     "output_type": "execute_result"
    }
   ],
   "source": [
    "df.describe()"
   ]
  },
  {
   "cell_type": "code",
   "execution_count": 32,
   "metadata": {},
   "outputs": [
    {
     "data": {
      "text/plain": [
       "-53594.36"
      ]
     },
     "execution_count": 32,
     "metadata": {},
     "output_type": "execute_result"
    }
   ],
   "source": [
    "# data has a negative price value. This could be an error in the data.\n",
    "df.price.min()\n",
    "df[df[price]<0][price]=0"
   ]
  },
  {
   "cell_type": "code",
   "execution_count": 18,
   "metadata": {},
   "outputs": [
    {
     "data": {
      "text/plain": [
       "Timedelta('610 days 00:00:00')"
      ]
     },
     "execution_count": 18,
     "metadata": {},
     "output_type": "execute_result"
    }
   ],
   "source": [
    "# total number of days in the data\n",
    "df['invoice_date'].describe()['last']-df['invoice_date'].describe()['first']"
   ]
  },
  {
   "cell_type": "code",
   "execution_count": 19,
   "metadata": {},
   "outputs": [],
   "source": [
    "# calculate revenue\n",
    "df['revenue'] = df['price']*df['times_viewed']"
   ]
  },
  {
   "cell_type": "code",
   "execution_count": 25,
   "metadata": {},
   "outputs": [
    {
     "data": {
      "text/plain": [
       "<matplotlib.axes._subplots.AxesSubplot at 0x7fc2ead70cc0>"
      ]
     },
     "execution_count": 25,
     "metadata": {},
     "output_type": "execute_result"
    },
    {
     "data": {
      "image/png": "[encoded data removed]",
      "text/plain": [
       "<Figure size 432x288 with 1 Axes>"
      ]
     },
     "metadata": {
      "needs_background": "light"
     },
     "output_type": "display_data"
    }
   ],
   "source": [
    "# countries with high revenues\n",
    "df.groupby('country').sum()['revenue'].sort_values(ascending=False).plot(kind='bar')"
   ]
  },
  {
   "cell_type": "code",
   "execution_count": 28,
   "metadata": {},
   "outputs": [
    {
     "data": {
      "text/plain": [
       "<matplotlib.axes._subplots.AxesSubplot at 0x7fc2e4ef8278>"
      ]
     },
     "execution_count": 28,
     "metadata": {},
     "output_type": "execute_result"
    },
    {
     "data": {
      "image/png": "[encoded data removed]",
      "text/plain": [
       "<Figure size 432x288 with 1 Axes>"
      ]
     },
     "metadata": {
      "needs_background": "light"
     },
     "output_type": "display_data"
    }
   ],
   "source": [
    "# customers who generate high revenue\n",
    "df.groupby('customer_id').sum()['revenue'].sort_values(ascending=False).head(20).plot(kind='bar')"
   ]
  },
  {
   "cell_type": "code",
   "execution_count": 30,
   "metadata": {},
   "outputs": [
    {
     "data": {
      "text/plain": [
       "<matplotlib.axes._subplots.AxesSubplot at 0x7fc2e4d8b320>"
      ]
     },
     "execution_count": 30,
     "metadata": {},
     "output_type": "execute_result"
    },
    {
     "data": {
      "image/png": "[encoded data removed]",
      "text/plain": [
       "<Figure size 432x288 with 1 Axes>"
      ]
     },
     "metadata": {
      "needs_background": "light"
     },
     "output_type": "display_data"
    }
   ],
   "source": [
    "# streams that generate high revenue\n",
    "df.groupby('stream_id').sum()['revenue'].sort_values(ascending=False).head(20).plot(kind='bar')"
   ]
  },
  {
   "cell_type": "code",
   "execution_count": 20,
   "metadata": {},
   "outputs": [
    {
     "data": {
      "text/html": [
       "<div>\n",
       "<style scoped>\n",
       "    .dataframe tbody tr th:only-of-type {\n",
       "        vertical-align: middle;\n",
       "    }\n",
       "\n",
       "    .dataframe tbody tr th {\n",
       "        vertical-align: top;\n",
       "    }\n",
       "\n",
       "    .dataframe thead th {\n",
       "        text-align: right;\n",
       "    }\n",
       "</style>\n",
       "<table border=\"1\" class=\"dataframe\">\n",
       "  <thead>\n",
       "    <tr style=\"text-align: right;\">\n",
       "      <th></th>\n",
       "      <th>date</th>\n",
       "      <th>purchases</th>\n",
       "      <th>unique_invoices</th>\n",
       "      <th>unique_streams</th>\n",
       "      <th>total_views</th>\n",
       "      <th>year_month</th>\n",
       "      <th>revenue</th>\n",
       "    </tr>\n",
       "  </thead>\n",
       "  <tbody>\n",
       "    <tr>\n",
       "      <th>0</th>\n",
       "      <td>2017-11-01</td>\n",
       "      <td>0</td>\n",
       "      <td>0</td>\n",
       "      <td>0</td>\n",
       "      <td>0</td>\n",
       "      <td>2017-11</td>\n",
       "      <td>0.00</td>\n",
       "    </tr>\n",
       "    <tr>\n",
       "      <th>1</th>\n",
       "      <td>2017-11-02</td>\n",
       "      <td>0</td>\n",
       "      <td>0</td>\n",
       "      <td>0</td>\n",
       "      <td>0</td>\n",
       "      <td>2017-11</td>\n",
       "      <td>0.00</td>\n",
       "    </tr>\n",
       "    <tr>\n",
       "      <th>2</th>\n",
       "      <td>2017-11-03</td>\n",
       "      <td>0</td>\n",
       "      <td>0</td>\n",
       "      <td>0</td>\n",
       "      <td>0</td>\n",
       "      <td>2017-11</td>\n",
       "      <td>0.00</td>\n",
       "    </tr>\n",
       "    <tr>\n",
       "      <th>3</th>\n",
       "      <td>2017-11-04</td>\n",
       "      <td>0</td>\n",
       "      <td>0</td>\n",
       "      <td>0</td>\n",
       "      <td>0</td>\n",
       "      <td>2017-11</td>\n",
       "      <td>0.00</td>\n",
       "    </tr>\n",
       "    <tr>\n",
       "      <th>4</th>\n",
       "      <td>2017-11-05</td>\n",
       "      <td>0</td>\n",
       "      <td>0</td>\n",
       "      <td>0</td>\n",
       "      <td>0</td>\n",
       "      <td>2017-11</td>\n",
       "      <td>0.00</td>\n",
       "    </tr>\n",
       "    <tr>\n",
       "      <th>...</th>\n",
       "      <td>...</td>\n",
       "      <td>...</td>\n",
       "      <td>...</td>\n",
       "      <td>...</td>\n",
       "      <td>...</td>\n",
       "      <td>...</td>\n",
       "      <td>...</td>\n",
       "    </tr>\n",
       "    <tr>\n",
       "      <th>602</th>\n",
       "      <td>2019-06-26</td>\n",
       "      <td>1358</td>\n",
       "      <td>67</td>\n",
       "      <td>999</td>\n",
       "      <td>6420</td>\n",
       "      <td>2019-06</td>\n",
       "      <td>4903.17</td>\n",
       "    </tr>\n",
       "    <tr>\n",
       "      <th>603</th>\n",
       "      <td>2019-06-27</td>\n",
       "      <td>1620</td>\n",
       "      <td>80</td>\n",
       "      <td>944</td>\n",
       "      <td>9435</td>\n",
       "      <td>2019-06</td>\n",
       "      <td>5499.38</td>\n",
       "    </tr>\n",
       "    <tr>\n",
       "      <th>604</th>\n",
       "      <td>2019-06-28</td>\n",
       "      <td>1027</td>\n",
       "      <td>70</td>\n",
       "      <td>607</td>\n",
       "      <td>5539</td>\n",
       "      <td>2019-06</td>\n",
       "      <td>3570.60</td>\n",
       "    </tr>\n",
       "    <tr>\n",
       "      <th>605</th>\n",
       "      <td>2019-06-29</td>\n",
       "      <td>0</td>\n",
       "      <td>0</td>\n",
       "      <td>0</td>\n",
       "      <td>0</td>\n",
       "      <td>2019-06</td>\n",
       "      <td>0.00</td>\n",
       "    </tr>\n",
       "    <tr>\n",
       "      <th>606</th>\n",
       "      <td>2019-06-30</td>\n",
       "      <td>602</td>\n",
       "      <td>27</td>\n",
       "      <td>423</td>\n",
       "      <td>2534</td>\n",
       "      <td>2019-06</td>\n",
       "      <td>1793.98</td>\n",
       "    </tr>\n",
       "  </tbody>\n",
       "</table>\n",
       "<p>607 rows × 7 columns</p>\n",
       "</div>"
      ],
      "text/plain": [
       "          date  purchases  unique_invoices  unique_streams  total_views  \\\n",
       "0   2017-11-01          0                0               0            0   \n",
       "1   2017-11-02          0                0               0            0   \n",
       "2   2017-11-03          0                0               0            0   \n",
       "3   2017-11-04          0                0               0            0   \n",
       "4   2017-11-05          0                0               0            0   \n",
       "..         ...        ...              ...             ...          ...   \n",
       "602 2019-06-26       1358               67             999         6420   \n",
       "603 2019-06-27       1620               80             944         9435   \n",
       "604 2019-06-28       1027               70             607         5539   \n",
       "605 2019-06-29          0                0               0            0   \n",
       "606 2019-06-30        602               27             423         2534   \n",
       "\n",
       "    year_month  revenue  \n",
       "0      2017-11     0.00  \n",
       "1      2017-11     0.00  \n",
       "2      2017-11     0.00  \n",
       "3      2017-11     0.00  \n",
       "4      2017-11     0.00  \n",
       "..         ...      ...  \n",
       "602    2019-06  4903.17  \n",
       "603    2019-06  5499.38  \n",
       "604    2019-06  3570.60  \n",
       "605    2019-06     0.00  \n",
       "606    2019-06  1793.98  \n",
       "\n",
       "[607 rows x 7 columns]"
      ]
     },
     "execution_count": 20,
     "metadata": {},
     "output_type": "execute_result"
    }
   ],
   "source": [
    "ts = cslib.convert_to_ts(df)\n",
    "ts"
   ]
  },
  {
   "cell_type": "code",
   "execution_count": 11,
   "metadata": {},
   "outputs": [
    {
     "data": {
      "text/plain": [
       "<matplotlib.axes._subplots.AxesSubplot at 0x7fc2f54316d8>"
      ]
     },
     "execution_count": 11,
     "metadata": {},
     "output_type": "execute_result"
    },
    {
     "data": {
      "image/png": "[encoded data removed]",
      "text/plain": [
       "<Figure size 432x288 with 1 Axes>"
      ]
     },
     "metadata": {
      "needs_background": "light"
     },
     "output_type": "display_data"
    }
   ],
   "source": [
    "# activity during different months\n",
    "ts.set_index('date').plot()"
   ]
  }
 ],
 "metadata": {
  "kernelspec": {
   "display_name": "Python 3",
   "language": "python",
   "name": "python3"
  },
  "language_info": {
   "codemirror_mode": {
    "name": "ipython",
    "version": 3
   },
   "file_extension": ".py",
   "mimetype": "text/x-python",
   "name": "python",
   "nbconvert_exporter": "python",
   "pygments_lexer": "ipython3",
   "version": "3.6.10"
  }
 },
 "nbformat": 4,
 "nbformat_minor": 4
}
